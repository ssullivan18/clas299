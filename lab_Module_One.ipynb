{
 "cells": [
  {
   "cell_type": "markdown",
   "metadata": {},
   "source": [
    "# Archaeological Data Analysis: lab module 1\n",
    "\n",
    "### Author:  Sean Sullivan"
   ]
  },
  {
   "cell_type": "markdown",
   "metadata": {},
   "source": [
    "# Exploring a data set\n",
    "\n",
    "In this notebook, you'll download a data set derived from the openly licensed content of the [Online Coins of the Roman Empire](http://numismatics.org/ocre/) (OCRE). The original data set is available from <http://nomisma.org/> RDF XML format.  We'l work with a version formatted as a delimited-text file, using `#` as the column delimiter, with a header line labelling each column.\n",
    "\n",
    "As with any data set, our first task is to figure out what kinds of data it contains, and what the range of values are for each category of data. We'll examine the contents of several columns of data.\n",
    "\n",
    "\n"
   ]
  },
  {
   "cell_type": "markdown",
   "metadata": {},
   "source": [
    "## Download delimited-text data\n",
    "\n",
    "We'll make the standard Scala `Source` object available by `import`ing it, then use it to retrieve the content of a URL."
   ]
  },
  {
   "cell_type": "code",
   "execution_count": 1,
   "metadata": {
    "inputHidden": false,
    "outputHidden": false
   },
   "outputs": [
    {
     "data": {
      "text/plain": [
       "\u001b[32mimport \u001b[39m\u001b[36mscala.io.Source\n",
       "\u001b[39m\n",
       "\u001b[36mocreCex\u001b[39m: \u001b[32mString\u001b[39m = \u001b[32m\"https://raw.githubusercontent.com/neelsmith/nomisma/master/cex/ocre-cite-ids.cex\"\u001b[39m"
      ]
     },
     "execution_count": 1,
     "metadata": {},
     "output_type": "execute_result"
    }
   ],
   "source": [
    "import scala.io.Source\n",
    "val ocreCex = \"https://raw.githubusercontent.com/neelsmith/nomisma/master/cex/ocre-cite-ids.cex\""
   ]
  },
  {
   "cell_type": "markdown",
   "metadata": {},
   "source": [
    "We'll extract a sequence of lines from the URL source, and convert them to our favorite type of Scala collection, a `Vector`.\n",
    "\n",
    "(The following cell downloads the data:  depending on your internet connection, this might take a moment.)"
   ]
  },
  {
   "cell_type": "code",
   "execution_count": 2,
   "metadata": {
    "inputHidden": false,
    "outputHidden": false
   },
   "outputs": [
    {
     "data": {
      "text/plain": [
       "\u001b[36mlines\u001b[39m: \u001b[32mVector\u001b[39m[\u001b[32mString\u001b[39m] = \u001b[33mVector\u001b[39m(\n",
       "  \u001b[32m\"ID#Label#Denomination#Metal#Authority#Mint#Region#ObvType#ObvLegend#ObvPortraitId#RevType#RevLegend#RevPortraitId#StartDate#EndDate\"\u001b[39m,\n",
       "  \u001b[32m\"3.com.43#RIC III Commodus 43#denarius#ar#commodus#rome#italy#Head of Commodus, laureate, right#M COMMODVS ANTONINVS AVG#http://nomisma.org/id/commodus#Roma, helmeted, draped, standing left, holding Victory in extended right hand and vertical spear in left hand#TR P VII IMP V COS III P P#http://collection.britishmuseum.org/id/person-institution/60208#182#182\"\u001b[39m,\n",
       "  \u001b[32m\"9.thes.27B.iii#RIC IX Thessalonica 27B: Subtype iii#ae3#ae#valentinian_i#thessalonica#macedonia#Bust of Valens, pearl-diademed, draped and cuirassed, right#D N VALEN-S P F AVG#http://nomisma.org/id/valens#Victory advancing left, holding wreath and palm#SECVRITAS-REIPVBLICAE#http://collection.britishmuseum.org/id/person-institution/60915#367#375\"\u001b[39m,\n",
       "  \u001b[32m\"9.thes.27B.ii#RIC IX Thessalonica 27B: Subtype ii#ae3#ae#valentinian_i#thessalonica#macedonia#Bust of Valens, pearl-diademed, draped and cuirassed, right#D N VALEN-S P F AVG#http://nomisma.org/id/valens#Victory advancing left, holding wreath and palm#SECVRITAS-REIPVBLICAE#http://collection.britishmuseum.org/id/person-institution/60915#367#375\"\u001b[39m,\n",
       "  \u001b[32m\"4.sa.26d#RIC IV Severus Alexander 26d#aureus#av#severus_alexander#rome#italy#Bust of Severus Alexander, larueate, draped, cuirassed, right#IMP C M AVR SEV ALEXAND AVG#http://nomisma.org/id/severus_alexander#Pax, draped, standing left, holding olive branch in right hand and sceptre in left hand#P M TR P II COS P P#http://collection.britishmuseum.org/id/person-institution/76227#223#223\"\u001b[39m,\n",
       "  \u001b[32m\"9.thes.18A.xxv#RIC IX Thessalonica 18A: Subtype xxv#ae3#ae#valentinian_i#thessalonica#macedonia#Bust of Valentinian I, pearl-diademed, draped and cuirassed, right#D N VALENTINI-ANVS P F AVG#http://nomisma.org/id/valentinian_i#Victory advancing left, holding wreath and palm#SECVRITAS-REIPVBLICAE#http://collection.britishmuseum.org/id/person-institution/60915#364#367\"\u001b[39m,\n",
       "  \u001b[32m\"6.rom.327b#RIC VI Rome 327b#ae2#ae#constantine_i#rome#italy#Bust of Maximinus Daia, laureate, draped, right, seen from behind#IMP MAXIMINVS P F AVG#http://nomisma.org/id/maximinus_daia#Sol, chlamys hanging behind, standing left, raising right hand and holding globe close to body in left hand#SOLI INVIC-TO COMITI#http://collection.britishmuseum.org/id/person-institution/58616#312#313\"\u001b[39m,\n",
       "  \u001b[32m\"6.rom.325#RIC VI Rome 325#ae2#ae#constantine_i#rome#italy#Bust of Constantine I, laureate, cuirassed, right#IMP C CONSTANTINVS P F AVG#http://nomisma.org/id/constantine_i#Sol, chlamys hanging behind, standing left, raising right hand and holding globe close to body in left hand#SOLI INVIC-TO COMITI#http://collection.britishmuseum.org/id/person-institution/58616#312#313\"\u001b[39m,\n",
       "  \u001b[32m\"6.rom.323c#RIC VI Rome 323c#ae2#ae#constantine_i#rome#italy#Bust of Licinius,\u001b[39m..."
      ]
     },
     "execution_count": 2,
     "metadata": {},
     "output_type": "execute_result"
    }
   ],
   "source": [
    "val lines = Source.fromURL(ocreCex).getLines.toVector"
   ]
  },
  {
   "cell_type": "markdown",
   "metadata": {},
   "source": [
    "## Examine header line\n",
    "\n",
    "To start with, let's see what the first line looks like, and compare it with the first data line."
   ]
  },
  {
   "cell_type": "code",
   "execution_count": 3,
   "metadata": {},
   "outputs": [
    {
     "data": {
      "text/plain": [
       "\u001b[36mres2\u001b[39m: \u001b[32mString\u001b[39m = \u001b[32m\"ID#Label#Denomination#Metal#Authority#Mint#Region#ObvType#ObvLegend#ObvPortraitId#RevType#RevLegend#RevPortraitId#StartDate#EndDate\"\u001b[39m"
      ]
     },
     "execution_count": 3,
     "metadata": {},
     "output_type": "execute_result"
    }
   ],
   "source": [
    "lines.head // same as lines(0)"
   ]
  },
  {
   "cell_type": "code",
   "execution_count": 6,
   "metadata": {
    "inputHidden": false,
    "outputHidden": false
   },
   "outputs": [
    {
     "data": {
      "text/plain": [
       "\u001b[36mres5\u001b[39m: \u001b[32mString\u001b[39m = \u001b[32m\"3.com.43#RIC III Commodus 43#denarius#ar#commodus#rome#italy#Head of Commodus, laureate, right#M COMMODVS ANTONINVS AVG#http://nomisma.org/id/commodus#Roma, helmeted, draped, standing left, holding Victory in extended right hand and vertical spear in left hand#TR P VII IMP V COS III P P#http://collection.britishmuseum.org/id/person-institution/60208#182#182\"\u001b[39m"
      ]
     },
     "execution_count": 6,
     "metadata": {},
     "output_type": "execute_result"
    }
   ],
   "source": [
    "lines(1)"
   ]
  },
  {
   "cell_type": "markdown",
   "metadata": {},
   "source": [
    "## Split data strings into columns\n",
    "\n",
    "Every line is a `String`.  If we break it up using the `split` method, we get an `Array` of `String`s, which we'll convert to a `Vector` of `String`s.  The end result will be that from a Vector of Strings, we create a Vector of Vectors of Strings.  Notice that Scala identifies the class of the new `data` expression as  `Vector[Vector[String]]`.\n",
    " "
   ]
  },
  {
   "cell_type": "code",
   "execution_count": 7,
   "metadata": {
    "inputHidden": false,
    "outputHidden": false
   },
   "outputs": [
    {
     "data": {
      "text/plain": [
       "\u001b[36mdata\u001b[39m: \u001b[32mVector\u001b[39m[\u001b[32mVector\u001b[39m[\u001b[32mString\u001b[39m]] = \u001b[33mVector\u001b[39m(\n",
       "  \u001b[33mVector\u001b[39m(\n",
       "    \u001b[32m\"3.com.43\"\u001b[39m,\n",
       "    \u001b[32m\"RIC III Commodus 43\"\u001b[39m,\n",
       "    \u001b[32m\"denarius\"\u001b[39m,\n",
       "    \u001b[32m\"ar\"\u001b[39m,\n",
       "    \u001b[32m\"commodus\"\u001b[39m,\n",
       "    \u001b[32m\"rome\"\u001b[39m,\n",
       "    \u001b[32m\"italy\"\u001b[39m,\n",
       "    \u001b[32m\"Head of Commodus, laureate, right\"\u001b[39m,\n",
       "    \u001b[32m\"M COMMODVS ANTONINVS AVG\"\u001b[39m,\n",
       "    \u001b[32m\"http://nomisma.org/id/commodus\"\u001b[39m,\n",
       "    \u001b[32m\"Roma, helmeted, draped, standing left, holding Victory in extended right hand and vertical spear in left hand\"\u001b[39m,\n",
       "    \u001b[32m\"TR P VII IMP V COS III P P\"\u001b[39m,\n",
       "    \u001b[32m\"http://collection.britishmuseum.org/id/person-institution/60208\"\u001b[39m,\n",
       "    \u001b[32m\"182\"\u001b[39m,\n",
       "    \u001b[32m\"182\"\u001b[39m\n",
       "  ),\n",
       "  \u001b[33mVector\u001b[39m(\n",
       "    \u001b[32m\"9.thes.27B.iii\"\u001b[39m,\n",
       "    \u001b[32m\"RIC IX Thessalonica 27B: Subtype iii\"\u001b[39m,\n",
       "    \u001b[32m\"ae3\"\u001b[39m,\n",
       "    \u001b[32m\"ae\"\u001b[39m,\n",
       "    \u001b[32m\"valentinian_i\"\u001b[39m,\n",
       "    \u001b[32m\"thessalonica\"\u001b[39m,\n",
       "    \u001b[32m\"macedonia\"\u001b[39m,\n",
       "    \u001b[32m\"Bust of Valens, pearl-diademed, draped and cuirassed, right\"\u001b[39m,\n",
       "    \u001b[32m\"D N VALEN-S P F AVG\"\u001b[39m,\n",
       "    \u001b[32m\"http://nomisma.org/id/valens\"\u001b[39m,\n",
       "    \u001b[32m\"Victory advancing left, holding wreath and palm\"\u001b[39m,\n",
       "    \u001b[32m\"SECVRITAS-REIPVBLICAE\"\u001b[39m,\n",
       "    \u001b[32m\"http://collection.britishmuseum.org/id/person-institution/60915\"\u001b[39m,\n",
       "    \u001b[32m\"367\"\u001b[39m,\n",
       "    \u001b[32m\"375\"\u001b[39m\n",
       "  ),\n",
       "  \u001b[33mVector\u001b[39m(\n",
       "    \u001b[32m\"9.thes.27B.ii\"\u001b[39m,\n",
       "    \u001b[32m\"RIC IX Thessalonica 27B: Subtype ii\"\u001b[39m,\n",
       "..."
      ]
     },
     "execution_count": 7,
     "metadata": {},
     "output_type": "execute_result"
    }
   ],
   "source": [
    "val data = lines.tail.map(ln => ln.split(\"#\").toVector)"
   ]
  },
  {
   "cell_type": "markdown",
   "metadata": {},
   "source": [
    "Mapping each Vector to the first item in the Vector is equivalent to extracting the first column from each Vector.  The header line told us that the first column should contain ID values."
   ]
  },
  {
   "cell_type": "code",
   "execution_count": 8,
   "metadata": {
    "inputHidden": false,
    "outputHidden": false
   },
   "outputs": [
    {
     "data": {
      "text/plain": [
       "\u001b[36mids\u001b[39m: \u001b[32mVector\u001b[39m[\u001b[32mString\u001b[39m] = \u001b[33mVector\u001b[39m(\n",
       "  \u001b[32m\"3.com.43\"\u001b[39m,\n",
       "  \u001b[32m\"9.thes.27B.iii\"\u001b[39m,\n",
       "  \u001b[32m\"9.thes.27B.ii\"\u001b[39m,\n",
       "  \u001b[32m\"4.sa.26d\"\u001b[39m,\n",
       "  \u001b[32m\"9.thes.18A.xxv\"\u001b[39m,\n",
       "  \u001b[32m\"6.rom.327b\"\u001b[39m,\n",
       "  \u001b[32m\"6.rom.325\"\u001b[39m,\n",
       "  \u001b[32m\"6.rom.323c\"\u001b[39m,\n",
       "  \u001b[32m\"6.rom.319\"\u001b[39m,\n",
       "  \u001b[32m\"6.rom.317\"\u001b[39m,\n",
       "  \u001b[32m\"6.rom.312\"\u001b[39m,\n",
       "  \u001b[32m\"6.rom.307\"\u001b[39m,\n",
       "  \u001b[32m\"5.val_i.94A.5\"\u001b[39m,\n",
       "  \u001b[32m\"6.rom.305\"\u001b[39m,\n",
       "  \u001b[32m\"6.rom.300\"\u001b[39m,\n",
       "  \u001b[32m\"6.rom.296b\"\u001b[39m,\n",
       "  \u001b[32m\"6.rom.294c\"\u001b[39m,\n",
       "  \u001b[32m\"4.tr_d.147\"\u001b[39m,\n",
       "  \u001b[32m\"6.rom.292b\"\u001b[39m,\n",
       "  \u001b[32m\"6.rom.288\"\u001b[39m,\n",
       "  \u001b[32m\"6.rom.286\"\u001b[39m,\n",
       "  \u001b[32m\"6.rom.285a\"\u001b[39m,\n",
       "  \u001b[32m\"6.rom.283\"\u001b[39m,\n",
       "  \u001b[32m\"6.rom.281b\"\u001b[39m,\n",
       "  \u001b[32m\"6.rom.280\"\u001b[39m,\n",
       "  \u001b[32m\"6.rom.277\"\u001b[39m,\n",
       "  \u001b[32m\"6.rom.265\"\u001b[39m,\n",
       "  \u001b[32m\"6.rom.257\"\u001b[39m,\n",
       "  \u001b[32m\"6.rom.252\"\u001b[39m,\n",
       "  \u001b[32m\"6.rom.245\"\u001b[39m,\n",
       "  \u001b[32m\"6.rom.242\"\u001b[39m,\n",
       "  \u001b[32m\"6.rom.237\"\u001b[39m,\n",
       "  \u001b[32m\"6.rom.232\"\u001b[39m,\n",
       "  \u001b[32m\"6.rom.222\"\u001b[39m,\n",
       "  \u001b[32m\"6.rom.210\"\u001b[39m,\n",
       "  \u001b[32m\"6.rom.202b\"\u001b[39m,\n",
       "  \u001b[32m\"6.rom.198b\"\u001b[39m,\n",
       "  \u001b[32m\"6.rom.194b\"\u001b[39m,\n",
       "..."
      ]
     },
     "execution_count": 8,
     "metadata": {},
     "output_type": "execute_result"
    }
   ],
   "source": [
    "val ids = data.map(columns => columns(0))"
   ]
  },
  {
   "cell_type": "markdown",
   "metadata": {},
   "source": [
    "We want to be sure that all ID values are unique.  We can verify that by comparing the number of items in the `ids` Vector with the number of *distinct values* in the `ids` Vector.  If they're the same, then every value is unique."
   ]
  },
  {
   "cell_type": "code",
   "execution_count": 9,
   "metadata": {
    "inputHidden": false,
    "outputHidden": false
   },
   "outputs": [
    {
     "name": "stdout",
     "output_type": "stream",
     "text": [
      "All records uniquely identified.\n"
     ]
    }
   ],
   "source": [
    "//println(\"Records: \" + ids.size)\n",
    "//println(\"Distinct IDs: \" + ids.distinct.size)\n",
    "if(ids.size == ids.distinct.size) {\n",
    "    println(\"All records uniquely identified.\")\n",
    "} else {\n",
    "    println(\"Duplicate identifiers in data set.\")\n",
    "}"
   ]
  },
  {
   "cell_type": "markdown",
   "metadata": {},
   "source": [
    "## Distribution of denominations\n",
    "\n",
    "Let's look at how coin denominations are described.  You can see from the header line that denominations are in the third column, so we'll map each Vector to the thrid column -- and remember that we start indexing with 0, so the third column is indexed as `(2)`."
   ]
  },
  {
   "cell_type": "code",
   "execution_count": 10,
   "metadata": {
    "inputHidden": false,
    "outputHidden": false
   },
   "outputs": [
    {
     "data": {
      "text/plain": [
       "\u001b[36mdenominations\u001b[39m: \u001b[32mVector\u001b[39m[\u001b[32mString\u001b[39m] = \u001b[33mVector\u001b[39m(\n",
       "  \u001b[32m\"denarius\"\u001b[39m,\n",
       "  \u001b[32m\"ae3\"\u001b[39m,\n",
       "  \u001b[32m\"ae3\"\u001b[39m,\n",
       "  \u001b[32m\"aureus\"\u001b[39m,\n",
       "  \u001b[32m\"ae3\"\u001b[39m,\n",
       "  \u001b[32m\"ae2\"\u001b[39m,\n",
       "  \u001b[32m\"ae2\"\u001b[39m,\n",
       "  \u001b[32m\"ae2\"\u001b[39m,\n",
       "  \u001b[32m\"ae2\"\u001b[39m,\n",
       "  \u001b[32m\"ae2\"\u001b[39m,\n",
       "  \u001b[32m\"ae2\"\u001b[39m,\n",
       "  \u001b[32m\"ae2\"\u001b[39m,\n",
       "  \u001b[32m\"antoninianus\"\u001b[39m,\n",
       "  \u001b[32m\"ae2\"\u001b[39m,\n",
       "  \u001b[32m\"ae2\"\u001b[39m,\n",
       "  \u001b[32m\"ae2\"\u001b[39m,\n",
       "  \u001b[32m\"ae2\"\u001b[39m,\n",
       "  \u001b[32m\"none\"\u001b[39m,\n",
       "  \u001b[32m\"ae2\"\u001b[39m,\n",
       "  \u001b[32m\"ae2\"\u001b[39m,\n",
       "  \u001b[32m\"solidus\"\u001b[39m,\n",
       "  \u001b[32m\"solidus\"\u001b[39m,\n",
       "  \u001b[32m\"solidus\"\u001b[39m,\n",
       "  \u001b[32m\"ae3\"\u001b[39m,\n",
       "  \u001b[32m\"ae3\"\u001b[39m,\n",
       "  \u001b[32m\"ae2\"\u001b[39m,\n",
       "  \u001b[32m\"ae2\"\u001b[39m,\n",
       "  \u001b[32m\"ae2\"\u001b[39m,\n",
       "  \u001b[32m\"ae2\"\u001b[39m,\n",
       "  \u001b[32m\"ae2\"\u001b[39m,\n",
       "  \u001b[32m\"ae2\"\u001b[39m,\n",
       "  \u001b[32m\"ae3\"\u001b[39m,\n",
       "  \u001b[32m\"ae3\"\u001b[39m,\n",
       "  \u001b[32m\"ae2\"\u001b[39m,\n",
       "  \u001b[32m\"ae2\"\u001b[39m,\n",
       "  \u001b[32m\"ae2\"\u001b[39m,\n",
       "  \u001b[32m\"ae2\"\u001b[39m,\n",
       "  \u001b[32m\"ae2\"\u001b[39m,\n",
       "..."
      ]
     },
     "execution_count": 10,
     "metadata": {},
     "output_type": "execute_result"
    }
   ],
   "source": [
    "val denominations = data.map(columns => columns(2))"
   ]
  },
  {
   "cell_type": "markdown",
   "metadata": {},
   "source": [
    "We'll use a very handy Scala idiom to count how many times each authority appears. If we group the elements in our Vector by their value, the result is a Map from the unique set of values to a list of the matching values.  "
   ]
  },
  {
   "cell_type": "code",
   "execution_count": 11,
   "metadata": {
    "inputHidden": false,
    "outputHidden": false
   },
   "outputs": [
    {
     "data": {
      "text/plain": [
       "\u001b[36mdenominationsGrouped\u001b[39m: \u001b[32mMap\u001b[39m[\u001b[32mString\u001b[39m, \u001b[32mVector\u001b[39m[\u001b[32mString\u001b[39m]] = \u001b[33mMap\u001b[39m(\n",
       "  \u001b[32m\"quadrans\"\u001b[39m -> \u001b[33mVector\u001b[39m(\n",
       "    \u001b[32m\"quadrans\"\u001b[39m,\n",
       "    \u001b[32m\"quadrans\"\u001b[39m,\n",
       "    \u001b[32m\"quadrans\"\u001b[39m,\n",
       "    \u001b[32m\"quadrans\"\u001b[39m,\n",
       "    \u001b[32m\"quadrans\"\u001b[39m,\n",
       "    \u001b[32m\"quadrans\"\u001b[39m,\n",
       "    \u001b[32m\"quadrans\"\u001b[39m,\n",
       "    \u001b[32m\"quadrans\"\u001b[39m,\n",
       "    \u001b[32m\"quadrans\"\u001b[39m,\n",
       "    \u001b[32m\"quadrans\"\u001b[39m,\n",
       "    \u001b[32m\"quadrans\"\u001b[39m,\n",
       "    \u001b[32m\"quadrans\"\u001b[39m,\n",
       "    \u001b[32m\"quadrans\"\u001b[39m,\n",
       "    \u001b[32m\"quadrans\"\u001b[39m,\n",
       "    \u001b[32m\"quadrans\"\u001b[39m,\n",
       "    \u001b[32m\"quadrans\"\u001b[39m,\n",
       "    \u001b[32m\"quadrans\"\u001b[39m,\n",
       "    \u001b[32m\"quadrans\"\u001b[39m,\n",
       "    \u001b[32m\"quadrans\"\u001b[39m,\n",
       "    \u001b[32m\"quadrans\"\u001b[39m,\n",
       "    \u001b[32m\"quadrans\"\u001b[39m,\n",
       "    \u001b[32m\"quadrans\"\u001b[39m,\n",
       "    \u001b[32m\"quadrans\"\u001b[39m,\n",
       "    \u001b[32m\"quadrans\"\u001b[39m,\n",
       "    \u001b[32m\"quadrans\"\u001b[39m,\n",
       "    \u001b[32m\"quadrans\"\u001b[39m,\n",
       "    \u001b[32m\"quadrans\"\u001b[39m,\n",
       "    \u001b[32m\"quadrans\"\u001b[39m,\n",
       "    \u001b[32m\"quadrans\"\u001b[39m,\n",
       "    \u001b[32m\"quadrans\"\u001b[39m,\n",
       "    \u001b[32m\"quadrans\"\u001b[39m,\n",
       "    \u001b[32m\"quadrans\"\u001b[39m,\n",
       "    \u001b[32m\"quadrans\"\u001b[39m,\n",
       "    \u001b[32m\"quadrans\"\u001b[39m,\n",
       "    \u001b[32m\"quadrans\"\u001b[39m,\n",
       "    \u001b[32m\"quadrans\"\u001b[39m,\n",
       "    \u001b[32m\"quadrans\"\u001b[39m,\n",
       "..."
      ]
     },
     "execution_count": 11,
     "metadata": {},
     "output_type": "execute_result"
    }
   ],
   "source": [
    "val denominationsGrouped = denominations.groupBy(denom => denom)\n"
   ]
  },
  {
   "cell_type": "code",
   "execution_count": 12,
   "metadata": {
    "inputHidden": false,
    "outputHidden": false
   },
   "outputs": [
    {
     "name": "stdout",
     "output_type": "stream",
     "text": [
      "Number of groups is same as number of distinct values.\n"
     ]
    }
   ],
   "source": [
    "// Free puzzle:  notice that the result of this groupBy should be the same size as the numnber of distinct values in our list:\n",
    "if (denominationsGrouped.size == denominations.distinct.size) {\n",
    "    println(\"Number of groups is same as number of distinct values.\")\n",
    "} else {\n",
    "    println(\"Something is terribly wrong.  The number of groups is not the same as the number of distinct values.\")\n",
    "}"
   ]
  },
  {
   "cell_type": "markdown",
   "metadata": {},
   "source": [
    "What we really want to know is *how many times* does each denomination appear?  We can find that out by transforming our mapping of String->Vector[String] to give us a mapping of each denomination to the *size* of the Vector of its occurrences."
   ]
  },
  {
   "cell_type": "markdown",
   "metadata": {},
   "source": [
    "\n"
   ]
  },
  {
   "cell_type": "code",
   "execution_count": 13,
   "metadata": {
    "collapsed": true,
    "inputHidden": false,
    "outputHidden": false
   },
   "outputs": [
    {
     "data": {
      "text/plain": [
       "\u001b[36mdenominationsCounts\u001b[39m: \u001b[32mMap\u001b[39m[\u001b[32mString\u001b[39m, \u001b[32mInt\u001b[39m] = \u001b[33mMap\u001b[39m(\n",
       "  \u001b[32m\"quadrans\"\u001b[39m -> \u001b[32m216\u001b[39m,\n",
       "  \u001b[32m\"quinarius\"\u001b[39m -> \u001b[32m558\u001b[39m,\n",
       "  \u001b[32m\"double-sestertius\"\u001b[39m -> \u001b[32m9\u001b[39m,\n",
       "  \u001b[32m\"ae2\"\u001b[39m -> \u001b[32m1627\u001b[39m,\n",
       "  \u001b[32m\"ae_half_unit\"\u001b[39m -> \u001b[32m2\u001b[39m,\n",
       "  \u001b[32m\"fraction\"\u001b[39m -> \u001b[32m132\u001b[39m,\n",
       "  \u001b[32m\"drachma\"\u001b[39m -> \u001b[32m13\u001b[39m,\n",
       "  \u001b[32m\"7-solidus\"\u001b[39m -> \u001b[32m2\u001b[39m,\n",
       "  \u001b[32m\"ar\"\u001b[39m -> \u001b[32m2\u001b[39m,\n",
       "  \u001b[32m\"aureus1_ric\"\u001b[39m -> \u001b[32m22\u001b[39m,\n",
       "  \u001b[32m\"triens\"\u001b[39m -> \u001b[32m2\u001b[39m,\n",
       "  \u001b[32m\"half_siliqua\"\u001b[39m -> \u001b[32m83\u001b[39m,\n",
       "  \u001b[32m\"reduced_half_siliqua\"\u001b[39m -> \u001b[32m1\u001b[39m,\n",
       "  \u001b[32m\"semissis\"\u001b[39m -> \u001b[32m141\u001b[39m,\n",
       "  \u001b[32m\"denarius\"\u001b[39m -> \u001b[32m6428\u001b[39m,\n",
       "  \u001b[32m\"12-as\"\u001b[39m -> \u001b[32m1\u001b[39m,\n",
       "  \u001b[32m\"multiple-gold\"\u001b[39m -> \u001b[32m238\u001b[39m,\n",
       "  \u001b[32m\"ae1\"\u001b[39m -> \u001b[32m2048\u001b[39m,\n",
       "  \u001b[32m\"multiple-silver\"\u001b[39m -> \u001b[32m50\u001b[39m,\n",
       "  \u001b[32m\"9-solidus\"\u001b[39m -> \u001b[32m8\u001b[39m,\n",
       "  \u001b[32m\"didrachm\"\u001b[39m -> \u001b[32m12\u001b[39m,\n",
       "  \u001b[32m\"reduced_siliqua\"\u001b[39m -> \u001b[32m72\u001b[39m,\n",
       "  \u001b[32m\"aureus2_ric\"\u001b[39m -> \u001b[32m24\u001b[39m,\n",
       "  \u001b[32m\"5-aureus\"\u001b[39m -> \u001b[32m1\u001b[39m,\n",
       "  \u001b[32m\"half_solidus\"\u001b[39m -> \u001b[32m11\u001b[39m,\n",
       "  \u001b[32m\"heavy_siliqua\"\u001b[39m -> \u001b[32m1\u001b[39m,\n",
       "  \u001b[32m\"large_ae2\"\u001b[39m -> \u001b[32m517\u001b[39m,\n",
       "  \u001b[32m\"as\"\u001b[39m -> \u001b[32m3395\u001b[39m,\n",
       "  \u001b[32m\"argenteus\"\u001b[39m -> \u001b[32m38\u001b[39m,\n",
       "  \u001b[32m\"oneandahalf_scripula\"\u001b[39m -> \u001b[32m36\u001b[39m,\n",
       "  \u001b[32m\"semis\"\u001b[39m -> \u001b[32m132\u001b[39m,\n",
       "  \u001b[32m\"aureus3_ric\"\u001b[39m -> \u001b[32m3\u001b[39m,\n",
       "  \u001b[32m\"24-as\"\u001b[39m -> \u001b[32m2\u001b[39m,\n",
       "  \u001b[32m\"6-solidus\"\u001b[39m -> \u001b[32m1\u001b[39m,\n",
       "  \u001b[32m\"oneandahalf-solidus\"\u001b[39m -> \u001b[32m52\u001b[39m,\n",
       "  \u001b[32m\"9-siliqua\"\u001b[39m -> \u001b[32m41\u001b[39m,\n",
       "  \u001b[32m\"cistophorus\"\u001b[39m -> \u001b[32m178\u001b[39m,\n",
       "  \u001b[32m\"half-solidus\"\u001b[39m -> \u001b[32m1\u001b[39m,\n",
       "..."
      ]
     },
     "execution_count": 13,
     "metadata": {},
     "output_type": "execute_result"
    }
   ],
   "source": [
    "val denominationsCounts = denominationsGrouped.map{ case (d, v) => (d, v.size) }\n"
   ]
  },
  {
   "cell_type": "markdown",
   "metadata": {},
   "source": [
    "Recall that `Map`s are not ordered in Scala. If we now convert the `Map` to a `Vector`, we will have a Vector pairing a String with an Int.  We can sort the Vector by the second element of the pairing (which will sort from smallest to largest), then reverse the results to have a descedning list of how often each denomination occurs."
   ]
  },
  {
   "cell_type": "code",
   "execution_count": 14,
   "metadata": {
    "collapsed": true,
    "inputHidden": false,
    "outputHidden": false
   },
   "outputs": [
    {
     "data": {
      "text/plain": [
       "\u001b[36mdenominationsHisto\u001b[39m: \u001b[32mVector\u001b[39m[(\u001b[32mString\u001b[39m, \u001b[32mInt\u001b[39m)] = \u001b[33mVector\u001b[39m(\n",
       "  (\u001b[32m\"antoninianus\"\u001b[39m, \u001b[32m9472\u001b[39m),\n",
       "  (\u001b[32m\"denarius\"\u001b[39m, \u001b[32m6428\u001b[39m),\n",
       "  (\u001b[32m\"sestertius\"\u001b[39m, \u001b[32m4845\u001b[39m),\n",
       "  (\u001b[32m\"aureus\"\u001b[39m, \u001b[32m4505\u001b[39m),\n",
       "  (\u001b[32m\"ae3\"\u001b[39m, \u001b[32m3827\u001b[39m),\n",
       "  (\u001b[32m\"none\"\u001b[39m, \u001b[32m3456\u001b[39m),\n",
       "  (\u001b[32m\"as\"\u001b[39m, \u001b[32m3395\u001b[39m),\n",
       "  (\u001b[32m\"dupondius\"\u001b[39m, \u001b[32m2235\u001b[39m),\n",
       "  (\u001b[32m\"solidus\"\u001b[39m, \u001b[32m2079\u001b[39m),\n",
       "  (\u001b[32m\"ae1\"\u001b[39m, \u001b[32m2048\u001b[39m),\n",
       "  (\u001b[32m\"ae2\"\u001b[39m, \u001b[32m1627\u001b[39m),\n",
       "  (\u001b[32m\"ae4\"\u001b[39m, \u001b[32m969\u001b[39m),\n",
       "  (\u001b[32m\"siliqua\"\u001b[39m, \u001b[32m869\u001b[39m),\n",
       "  (\u001b[32m\"quinarius\"\u001b[39m, \u001b[32m558\u001b[39m),\n",
       "  (\u001b[32m\"large_ae2\"\u001b[39m, \u001b[32m517\u001b[39m),\n",
       "  (\u001b[32m\"uncertain_value\"\u001b[39m, \u001b[32m463\u001b[39m),\n",
       "  (\u001b[32m\"roman_medallion\"\u001b[39m, \u001b[32m393\u001b[39m),\n",
       "  (\u001b[32m\"tremissis\"\u001b[39m, \u001b[32m289\u001b[39m),\n",
       "  (\u001b[32m\"quinarius_aureus\"\u001b[39m, \u001b[32m258\u001b[39m),\n",
       "  (\u001b[32m\"light_miliarensis\"\u001b[39m, \u001b[32m241\u001b[39m),\n",
       "  (\u001b[32m\"multiple-gold\"\u001b[39m, \u001b[32m238\u001b[39m),\n",
       "  (\u001b[32m\"quadrans\"\u001b[39m, \u001b[32m216\u001b[39m),\n",
       "  (\u001b[32m\"cistophorus\"\u001b[39m, \u001b[32m178\u001b[39m),\n",
       "  (\u001b[32m\"small_ae2\"\u001b[39m, \u001b[32m162\u001b[39m),\n",
       "  (\u001b[32m\"reduced_ae2\"\u001b[39m, \u001b[32m159\u001b[39m),\n",
       "  (\u001b[32m\"semissis\"\u001b[39m, \u001b[32m141\u001b[39m),\n",
       "  (\u001b[32m\"semis\"\u001b[39m, \u001b[32m132\u001b[39m),\n",
       "  (\u001b[32m\"fraction\"\u001b[39m, \u001b[32m132\u001b[39m),\n",
       "  (\u001b[32m\"heavy_miliarensis\"\u001b[39m, \u001b[32m125\u001b[39m),\n",
       "  (\u001b[32m\"half_siliqua\"\u001b[39m, \u001b[32m83\u001b[39m),\n",
       "  (\u001b[32m\"reduced_siliqua\"\u001b[39m, \u001b[32m72\u001b[39m),\n",
       "  (\u001b[32m\"ae3_4\"\u001b[39m, \u001b[32m71\u001b[39m),\n",
       "  (\u001b[32m\"oneandahalf-solidus\"\u001b[39m, \u001b[32m52\u001b[39m),\n",
       "  (\u001b[32m\"multiple-silver\"\u001b[39m, \u001b[32m50\u001b[39m),\n",
       "  (\u001b[32m\"9-siliqua\"\u001b[39m, \u001b[32m41\u001b[39m),\n",
       "  (\u001b[32m\"2-solidus\"\u001b[39m, \u001b[32m38\u001b[39m),\n",
       "  (\u001b[32m\"argenteus\"\u001b[39m, \u001b[32m38\u001b[39m),\n",
       "  (\u001b[32m\"oneandahalf_scripula\"\u001b[39m, \u001b[32m36\u001b[39m),\n",
       "..."
      ]
     },
     "execution_count": 14,
     "metadata": {},
     "output_type": "execute_result"
    }
   ],
   "source": [
    "val denominationsHisto = denominationsCounts.toVector.sortBy(frequency => frequency._2).reverse"
   ]
  },
  {
   "cell_type": "markdown",
   "metadata": {},
   "source": [
    "Now we can easily see the extremes of the counts:"
   ]
  },
  {
   "cell_type": "code",
   "execution_count": 15,
   "metadata": {
    "inputHidden": false,
    "outputHidden": false
   },
   "outputs": [
    {
     "name": "stdout",
     "output_type": "stream",
     "text": [
      "Most frequent denomination: (antoninianus,9472)\n"
     ]
    }
   ],
   "source": [
    "println(\"Most frequent denomination: \" + denominationsHisto.head)"
   ]
  },
  {
   "cell_type": "code",
   "execution_count": 16,
   "metadata": {
    "collapsed": true,
    "inputHidden": false,
    "outputHidden": false
   },
   "outputs": [
    {
     "name": "stdout",
     "output_type": "stream",
     "text": [
      "Least frequent denominations: \n",
      "(double-sestertius,9)\n",
      "(ae_small,8)\n",
      "(ae_medium,8)\n",
      "(ae_large,8)\n",
      "(9-solidus,8)\n",
      "(3-solidus,7)\n",
      "(4-aureus,3)\n",
      "(aureus3_ric,3)\n",
      "(5-denarius,2)\n",
      "(dupondius_or_as,2)\n",
      "(24-as,2)\n",
      "(triens,2)\n",
      "(ar,2)\n",
      "(7-solidus,2)\n",
      "(ae_half_unit,2)\n",
      "(4-denarius,1)\n",
      "(4-solidus,1)\n",
      "(uncia,1)\n",
      "(double-maiorina,1)\n",
      "(8-denarius,1)\n",
      "(7-denarius,1)\n",
      "(ae_unit,1)\n",
      "(double-aureus,1)\n",
      "(30-solidus,1)\n",
      "(half-solidus,1)\n",
      "(6-solidus,1)\n",
      "(heavy_siliqua,1)\n",
      "(5-aureus,1)\n",
      "(12-as,1)\n",
      "(reduced_half_siliqua,1)\n"
     ]
    },
    {
     "data": {
      "text/plain": [
       "\u001b[36mcutOff\u001b[39m: \u001b[32mInt\u001b[39m = \u001b[32m10\u001b[39m\n",
       "\u001b[36mleastDenominations\u001b[39m: \u001b[32mVector\u001b[39m[(\u001b[32mString\u001b[39m, \u001b[32mInt\u001b[39m)] = \u001b[33mVector\u001b[39m(\n",
       "  (\u001b[32m\"double-sestertius\"\u001b[39m, \u001b[32m9\u001b[39m),\n",
       "  (\u001b[32m\"ae_small\"\u001b[39m, \u001b[32m8\u001b[39m),\n",
       "  (\u001b[32m\"ae_medium\"\u001b[39m, \u001b[32m8\u001b[39m),\n",
       "  (\u001b[32m\"ae_large\"\u001b[39m, \u001b[32m8\u001b[39m),\n",
       "  (\u001b[32m\"9-solidus\"\u001b[39m, \u001b[32m8\u001b[39m),\n",
       "  (\u001b[32m\"3-solidus\"\u001b[39m, \u001b[32m7\u001b[39m),\n",
       "  (\u001b[32m\"4-aureus\"\u001b[39m, \u001b[32m3\u001b[39m),\n",
       "  (\u001b[32m\"aureus3_ric\"\u001b[39m, \u001b[32m3\u001b[39m),\n",
       "  (\u001b[32m\"5-denarius\"\u001b[39m, \u001b[32m2\u001b[39m),\n",
       "  (\u001b[32m\"dupondius_or_as\"\u001b[39m, \u001b[32m2\u001b[39m),\n",
       "  (\u001b[32m\"24-as\"\u001b[39m, \u001b[32m2\u001b[39m),\n",
       "  (\u001b[32m\"triens\"\u001b[39m, \u001b[32m2\u001b[39m),\n",
       "  (\u001b[32m\"ar\"\u001b[39m, \u001b[32m2\u001b[39m),\n",
       "  (\u001b[32m\"7-solidus\"\u001b[39m, \u001b[32m2\u001b[39m),\n",
       "  (\u001b[32m\"ae_half_unit\"\u001b[39m, \u001b[32m2\u001b[39m),\n",
       "  (\u001b[32m\"4-denarius\"\u001b[39m, \u001b[32m1\u001b[39m),\n",
       "  (\u001b[32m\"4-solidus\"\u001b[39m, \u001b[32m1\u001b[39m),\n",
       "  (\u001b[32m\"uncia\"\u001b[39m, \u001b[32m1\u001b[39m),\n",
       "  (\u001b[32m\"double-maiorina\"\u001b[39m, \u001b[32m1\u001b[39m),\n",
       "  (\u001b[32m\"8-denarius\"\u001b[39m, \u001b[32m1\u001b[39m),\n",
       "  (\u001b[32m\"7-denarius\"\u001b[39m, \u001b[32m1\u001b[39m),\n",
       "  (\u001b[32m\"ae_unit\"\u001b[39m, \u001b[32m1\u001b[39m),\n",
       "  (\u001b[32m\"double-aureus\"\u001b[39m, \u001b[32m1\u001b[39m),\n",
       "  (\u001b[32m\"30-solidus\"\u001b[39m, \u001b[32m1\u001b[39m),\n",
       "  (\u001b[32m\"half-solidus\"\u001b[39m, \u001b[32m1\u001b[39m),\n",
       "  (\u001b[32m\"6-solidus\"\u001b[39m, \u001b[32m1\u001b[39m),\n",
       "  (\u001b[32m\"heavy_siliqua\"\u001b[39m, \u001b[32m1\u001b[39m),\n",
       "  (\u001b[32m\"5-aureus\"\u001b[39m, \u001b[32m1\u001b[39m),\n",
       "  (\u001b[32m\"12-as\"\u001b[39m, \u001b[32m1\u001b[39m),\n",
       "  (\u001b[32m\"reduced_half_siliqua\"\u001b[39m, \u001b[32m1\u001b[39m)\n",
       ")"
      ]
     },
     "execution_count": 16,
     "metadata": {},
     "output_type": "execute_result"
    }
   ],
   "source": [
    "// Find denominations occurring fewer than some threshhold number of times\n",
    "val cutOff = 10 \n",
    "val leastDenominations = denominationsHisto.filter(frequency => frequency._2 < cutOff)\n",
    "println(\"Least frequent denominations: \\n\" + leastDenominations.mkString(\"\\n\"))"
   ]
  },
  {
   "cell_type": "markdown",
   "metadata": {},
   "source": [
    "## Assignment\n",
    "\n",
    "\n",
    "Analyze how many issues are produced by each issuing authority to answer the following questions:\n",
    "\n",
    "- How many different authorities strike coins in OCRE's data?\n",
    "- Who strikes the greatest number of issues?  How many?\n",
    "- What is the smallest number of issues struck by a single authority?"
   ]
  },
  {
   "cell_type": "markdown",
   "metadata": {},
   "source": [
    "### Gather and organize your data"
   ]
  },
  {
   "cell_type": "code",
   "execution_count": 17,
   "metadata": {
    "inputHidden": false,
    "outputHidden": false
   },
   "outputs": [
    {
     "data": {
      "text/plain": [
       "\u001b[36mauthorities\u001b[39m: \u001b[32mVector\u001b[39m[\u001b[32mString\u001b[39m] = \u001b[33mVector\u001b[39m(\n",
       "  \u001b[32m\"commodus\"\u001b[39m,\n",
       "  \u001b[32m\"valentinian_i\"\u001b[39m,\n",
       "  \u001b[32m\"valentinian_i\"\u001b[39m,\n",
       "  \u001b[32m\"severus_alexander\"\u001b[39m,\n",
       "  \u001b[32m\"valentinian_i\"\u001b[39m,\n",
       "  \u001b[32m\"constantine_i\"\u001b[39m,\n",
       "  \u001b[32m\"constantine_i\"\u001b[39m,\n",
       "  \u001b[32m\"constantine_i\"\u001b[39m,\n",
       "  \u001b[32m\"constantine_i\"\u001b[39m,\n",
       "  \u001b[32m\"constantine_i\"\u001b[39m,\n",
       "  \u001b[32m\"constantine_i\"\u001b[39m,\n",
       "  \u001b[32m\"constantine_i\"\u001b[39m,\n",
       "  \u001b[32m\"valerian\"\u001b[39m,\n",
       "  \u001b[32m\"constantine_i\"\u001b[39m,\n",
       "  \u001b[32m\"constantine_i\"\u001b[39m,\n",
       "  \u001b[32m\"constantine_i\"\u001b[39m,\n",
       "  \u001b[32m\"constantine_i\"\u001b[39m,\n",
       "  \u001b[32m\"trajan_decius\"\u001b[39m,\n",
       "  \u001b[32m\"constantine_i\"\u001b[39m,\n",
       "  \u001b[32m\"constantine_i\"\u001b[39m,\n",
       "  \u001b[32m\"constantine_i\"\u001b[39m,\n",
       "  \u001b[32m\"constantine_i\"\u001b[39m,\n",
       "  \u001b[32m\"constantine_i\"\u001b[39m,\n",
       "  \u001b[32m\"maxentius\"\u001b[39m,\n",
       "  \u001b[32m\"maxentius\"\u001b[39m,\n",
       "  \u001b[32m\"maxentius\"\u001b[39m,\n",
       "  \u001b[32m\"maxentius\"\u001b[39m,\n",
       "  \u001b[32m\"maxentius\"\u001b[39m,\n",
       "  \u001b[32m\"maxentius\"\u001b[39m,\n",
       "  \u001b[32m\"maxentius\"\u001b[39m,\n",
       "  \u001b[32m\"maxentius\"\u001b[39m,\n",
       "  \u001b[32m\"maxentius\"\u001b[39m,\n",
       "  \u001b[32m\"maxentius\"\u001b[39m,\n",
       "  \u001b[32m\"maxentius\"\u001b[39m,\n",
       "  \u001b[32m\"maxentius\"\u001b[39m,\n",
       "  \u001b[32m\"maxentius\"\u001b[39m,\n",
       "  \u001b[32m\"maxentius\"\u001b[39m,\n",
       "  \u001b[32m\"maxentius\"\u001b[39m,\n",
       "..."
      ]
     },
     "execution_count": 17,
     "metadata": {},
     "output_type": "execute_result"
    }
   ],
   "source": [
    "// First, to extract the \"Authority\" column from the data set, uncomment and complete the following line:\n",
    "val authorities = data.map(columns => columns(4))"
   ]
  },
  {
   "cell_type": "markdown",
   "metadata": {},
   "source": [
    "### Question 1: how many authorities strike coins?\n",
    "\n"
   ]
  },
  {
   "cell_type": "code",
   "execution_count": 32,
   "metadata": {
    "collapsed": true,
    "inputHidden": false,
    "outputHidden": false
   },
   "outputs": [
    {
     "data": {
      "text/plain": [
       "\u001b[36mauthorities\u001b[39m: \u001b[32mVector\u001b[39m[\u001b[32mString\u001b[39m] = \u001b[33mVector\u001b[39m(\n",
       "  \u001b[32m\"commodus\"\u001b[39m,\n",
       "  \u001b[32m\"valentinian_i\"\u001b[39m,\n",
       "  \u001b[32m\"valentinian_i\"\u001b[39m,\n",
       "  \u001b[32m\"severus_alexander\"\u001b[39m,\n",
       "  \u001b[32m\"valentinian_i\"\u001b[39m,\n",
       "  \u001b[32m\"constantine_i\"\u001b[39m,\n",
       "  \u001b[32m\"constantine_i\"\u001b[39m,\n",
       "  \u001b[32m\"constantine_i\"\u001b[39m,\n",
       "  \u001b[32m\"constantine_i\"\u001b[39m,\n",
       "  \u001b[32m\"constantine_i\"\u001b[39m,\n",
       "  \u001b[32m\"constantine_i\"\u001b[39m,\n",
       "  \u001b[32m\"constantine_i\"\u001b[39m,\n",
       "  \u001b[32m\"valerian\"\u001b[39m,\n",
       "  \u001b[32m\"constantine_i\"\u001b[39m,\n",
       "  \u001b[32m\"constantine_i\"\u001b[39m,\n",
       "  \u001b[32m\"constantine_i\"\u001b[39m,\n",
       "  \u001b[32m\"constantine_i\"\u001b[39m,\n",
       "  \u001b[32m\"trajan_decius\"\u001b[39m,\n",
       "  \u001b[32m\"constantine_i\"\u001b[39m,\n",
       "  \u001b[32m\"constantine_i\"\u001b[39m,\n",
       "  \u001b[32m\"constantine_i\"\u001b[39m,\n",
       "  \u001b[32m\"constantine_i\"\u001b[39m,\n",
       "  \u001b[32m\"constantine_i\"\u001b[39m,\n",
       "  \u001b[32m\"maxentius\"\u001b[39m,\n",
       "  \u001b[32m\"maxentius\"\u001b[39m,\n",
       "  \u001b[32m\"maxentius\"\u001b[39m,\n",
       "  \u001b[32m\"maxentius\"\u001b[39m,\n",
       "  \u001b[32m\"maxentius\"\u001b[39m,\n",
       "  \u001b[32m\"maxentius\"\u001b[39m,\n",
       "  \u001b[32m\"maxentius\"\u001b[39m,\n",
       "  \u001b[32m\"maxentius\"\u001b[39m,\n",
       "  \u001b[32m\"maxentius\"\u001b[39m,\n",
       "  \u001b[32m\"maxentius\"\u001b[39m,\n",
       "  \u001b[32m\"maxentius\"\u001b[39m,\n",
       "  \u001b[32m\"maxentius\"\u001b[39m,\n",
       "  \u001b[32m\"maxentius\"\u001b[39m,\n",
       "  \u001b[32m\"maxentius\"\u001b[39m,\n",
       "  \u001b[32m\"maxentius\"\u001b[39m,\n",
       "...\n",
       "\u001b[36msize\u001b[39m: \u001b[32mInt\u001b[39m = \u001b[32m131\u001b[39m"
      ]
     },
     "execution_count": 32,
     "metadata": {},
     "output_type": "execute_result"
    }
   ],
   "source": [
    "// Use the distinct method and size method to count how many distinct values you have in `authorities`\n",
    "// \n",
    "val authorities = data.map(columns => columns(4))\n",
    "val size = authorities.distinct.size"
   ]
  },
  {
   "cell_type": "markdown",
   "metadata": {},
   "source": [
    "### Group records by authority and count them"
   ]
  },
  {
   "cell_type": "code",
   "execution_count": 19,
   "metadata": {
    "collapsed": true,
    "inputHidden": false,
    "outputHidden": false
   },
   "outputs": [
    {
     "data": {
      "text/plain": [
       "\u001b[36mauthoritiesGrouped\u001b[39m: \u001b[32mMap\u001b[39m[\u001b[32mString\u001b[39m, \u001b[32mVector\u001b[39m[\u001b[32mString\u001b[39m]] = \u001b[33mMap\u001b[39m(\n",
       "  \u001b[32m\"quietus\"\u001b[39m -> \u001b[33mVector\u001b[39m(\n",
       "    \u001b[32m\"quietus\"\u001b[39m,\n",
       "    \u001b[32m\"quietus\"\u001b[39m,\n",
       "    \u001b[32m\"quietus\"\u001b[39m,\n",
       "    \u001b[32m\"quietus\"\u001b[39m,\n",
       "    \u001b[32m\"quietus\"\u001b[39m,\n",
       "    \u001b[32m\"quietus\"\u001b[39m,\n",
       "    \u001b[32m\"quietus\"\u001b[39m,\n",
       "    \u001b[32m\"quietus\"\u001b[39m,\n",
       "    \u001b[32m\"quietus\"\u001b[39m,\n",
       "    \u001b[32m\"quietus\"\u001b[39m,\n",
       "    \u001b[32m\"quietus\"\u001b[39m,\n",
       "    \u001b[32m\"quietus\"\u001b[39m,\n",
       "    \u001b[32m\"quietus\"\u001b[39m\n",
       "  ),\n",
       "  \u001b[32m\"zenobia\"\u001b[39m -> \u001b[33mVector\u001b[39m(\u001b[32m\"zenobia\"\u001b[39m, \u001b[32m\"zenobia\"\u001b[39m),\n",
       "  \u001b[32m\"maximus_barcelona\"\u001b[39m -> \u001b[33mVector\u001b[39m(\n",
       "    \u001b[32m\"maximus_barcelona\"\u001b[39m,\n",
       "    \u001b[32m\"maximus_barcelona\"\u001b[39m,\n",
       "    \u001b[32m\"maximus_barcelona\"\u001b[39m,\n",
       "    \u001b[32m\"maximus_barcelona\"\u001b[39m\n",
       "  ),\n",
       "  \u001b[32m\"trebonianus_gallus\"\u001b[39m -> \u001b[33mVector\u001b[39m(\n",
       "    \u001b[32m\"trebonianus_gallus\"\u001b[39m,\n",
       "    \u001b[32m\"trebonianus_gallus\"\u001b[39m,\n",
       "    \u001b[32m\"trebonianus_gallus\"\u001b[39m,\n",
       "    \u001b[32m\"trebonianus_gallus\"\u001b[39m,\n",
       "    \u001b[32m\"trebonianus_gallus\"\u001b[39m,\n",
       "    \u001b[32m\"trebonianus_gallus\"\u001b[39m,\n",
       "    \u001b[32m\"trebonianus_gallus\"\u001b[39m,\n",
       "    \u001b[32m\"trebonianus_gallus\"\u001b[39m,\n",
       "    \u001b[32m\"trebonianus_gallus\"\u001b[39m,\n",
       "    \u001b[32m\"trebonianus_gallus\"\u001b[39m,\n",
       "    \u001b[32m\"trebonianus_gallus\"\u001b[39m,\n",
       "    \u001b[32m\"trebonianus_gallus\"\u001b[39m,\n",
       "    \u001b[32m\"trebonianus_gallus\"\u001b[39m,\n",
       "    \u001b[32m\"trebonianus_gallus\"\u001b[39m,\n",
       "    \u001b[32m\"trebonianus_gallus\"\u001b[39m,\n",
       "..."
      ]
     },
     "execution_count": 19,
     "metadata": {},
     "output_type": "execute_result"
    }
   ],
   "source": [
    "// use the groupBy method to group each auhority by the authority value.\n",
    "// This will give you a Map of Strings to a Vector of Strings\n",
    "// \n",
    "val authoritiesGrouped = authorities.groupBy(authority => authority)\n"
   ]
  },
  {
   "cell_type": "code",
   "execution_count": 20,
   "metadata": {
    "collapsed": true,
    "inputHidden": false,
    "outputHidden": false
   },
   "outputs": [
    {
     "data": {
      "text/plain": [
       "\u001b[36mauthoritiesCounts\u001b[39m: \u001b[32mMap\u001b[39m[\u001b[32mString\u001b[39m, \u001b[32mInt\u001b[39m] = \u001b[33mMap\u001b[39m(\n",
       "  \u001b[32m\"quietus\"\u001b[39m -> \u001b[32m13\u001b[39m,\n",
       "  \u001b[32m\"zenobia\"\u001b[39m -> \u001b[32m2\u001b[39m,\n",
       "  \u001b[32m\"maximus_barcelona\"\u001b[39m -> \u001b[32m4\u001b[39m,\n",
       "  \u001b[32m\"trebonianus_gallus\"\u001b[39m -> \u001b[32m307\u001b[39m,\n",
       "  \u001b[32m\"carausius\"\u001b[39m -> \u001b[32m1146\u001b[39m,\n",
       "  \u001b[32m\"tetricus_i\"\u001b[39m -> \u001b[32m295\u001b[39m,\n",
       "  \u001b[32m\"postumus\"\u001b[39m -> \u001b[32m392\u001b[39m,\n",
       "  \u001b[32m\"macrianus_minor\"\u001b[39m -> \u001b[32m13\u001b[39m,\n",
       "  \u001b[32m\"anthemius\"\u001b[39m -> \u001b[32m107\u001b[39m,\n",
       "  \u001b[32m\"magnus_maximus\"\u001b[39m -> \u001b[32m110\u001b[39m,\n",
       "  \u001b[32m\"otho\"\u001b[39m -> \u001b[32m24\u001b[39m,\n",
       "  \u001b[32m\"pertinax\"\u001b[39m -> \u001b[32m71\u001b[39m,\n",
       "  \u001b[32m\"basiliscus\"\u001b[39m -> \u001b[32m50\u001b[39m,\n",
       "  \u001b[32m\"elagabalus\"\u001b[39m -> \u001b[32m550\u001b[39m,\n",
       "  \u001b[32m\"theodosius_ii\"\u001b[39m -> \u001b[32m275\u001b[39m,\n",
       "  \u001b[32m\"constantine_i\"\u001b[39m -> \u001b[32m4096\u001b[39m,\n",
       "  \u001b[32m\"numerian\"\u001b[39m -> \u001b[32m90\u001b[39m,\n",
       "  \u001b[32m\"domitius_alexander\"\u001b[39m -> \u001b[32m15\u001b[39m,\n",
       "  \u001b[32m\"quintillus\"\u001b[39m -> \u001b[32m100\u001b[39m,\n",
       "  \u001b[32m\"tacitus\"\u001b[39m -> \u001b[32m214\u001b[39m,\n",
       "  \u001b[32m\"anonymous\"\u001b[39m -> \u001b[32m184\u001b[39m,\n",
       "  \u001b[32m\"vespasian\"\u001b[39m -> \u001b[32m1588\u001b[39m,\n",
       "  \u001b[32m\"sponsianus\"\u001b[39m -> \u001b[32m1\u001b[39m,\n",
       "  \u001b[32m\"jovianus\"\u001b[39m -> \u001b[32m98\u001b[39m,\n",
       "  \u001b[32m\"probus\"\u001b[39m -> \u001b[32m953\u001b[39m,\n",
       "  \u001b[32m\"valentinian_ii\"\u001b[39m -> \u001b[32m824\u001b[39m,\n",
       "  \u001b[32m\"severus_alexander\"\u001b[39m -> \u001b[32m942\u001b[39m,\n",
       "  \u001b[32m\"saturninus\"\u001b[39m -> \u001b[32m1\u001b[39m,\n",
       "  \u001b[32m\"romulus_augustulus\"\u001b[39m -> \u001b[32m22\u001b[39m,\n",
       "  \u001b[32m\"trajan_decius\"\u001b[39m -> \u001b[32m531\u001b[39m,\n",
       "  \u001b[32m\"gordian_i\"\u001b[39m -> \u001b[32m16\u001b[39m,\n",
       "  \u001b[32m\"clodius_macer\"\u001b[39m -> \u001b[32m42\u001b[39m,\n",
       "  \u001b[32m\"constantine_iii\"\u001b[39m -> \u001b[32m46\u001b[39m,\n",
       "  \u001b[32m\"domitian_ii\"\u001b[39m -> \u001b[32m1\u001b[39m,\n",
       "  \u001b[32m\"carinus\"\u001b[39m -> \u001b[32m145\u001b[39m,\n",
       "  \u001b[32m\"jotapianus\"\u001b[39m -> \u001b[32m5\u001b[39m,\n",
       "  \u001b[32m\"hadrian\"\u001b[39m -> \u001b[32m2434\u001b[39m,\n",
       "  \u001b[32m\"vitellius\"\u001b[39m -> \u001b[32m177\u001b[39m,\n",
       "..."
      ]
     },
     "execution_count": 20,
     "metadata": {},
     "output_type": "execute_result"
    }
   ],
   "source": [
    "// now convert each pairing of String->Vector[String] to a String->Int counting how many elements are in the original Vector.\n",
    "// The result is a Map[String->Int].\n",
    "//\n",
    "val authoritiesCounts = authoritiesGrouped.map{ case (auth, v) => (auth, v.size) }"
   ]
  },
  {
   "cell_type": "code",
   "execution_count": 23,
   "metadata": {
    "collapsed": true,
    "inputHidden": false,
    "outputHidden": false
   },
   "outputs": [
    {
     "data": {
      "text/plain": [
       "\u001b[36mauthoritiesHistogram\u001b[39m: \u001b[32mVector\u001b[39m[(\u001b[32mString\u001b[39m, \u001b[32mInt\u001b[39m)] = \u001b[33mVector\u001b[39m(\n",
       "  (\u001b[32m\"constantine_i\"\u001b[39m, \u001b[32m4096\u001b[39m),\n",
       "  (\u001b[32m\"gallienus\"\u001b[39m, \u001b[32m3434\u001b[39m),\n",
       "  (\u001b[32m\"hadrian\"\u001b[39m, \u001b[32m2434\u001b[39m),\n",
       "  (\u001b[32m\"antoninus_pius\"\u001b[39m, \u001b[32m2381\u001b[39m),\n",
       "  (\u001b[32m\"maximian\"\u001b[39m, \u001b[32m2326\u001b[39m),\n",
       "  (\u001b[32m\"septimius_severus\"\u001b[39m, \u001b[32m2170\u001b[39m),\n",
       "  (\u001b[32m\"marcus_aurelius\"\u001b[39m, \u001b[32m1819\u001b[39m),\n",
       "  (\u001b[32m\"constantius_ii\"\u001b[39m, \u001b[32m1617\u001b[39m),\n",
       "  (\u001b[32m\"valerian\"\u001b[39m, \u001b[32m1597\u001b[39m),\n",
       "  (\u001b[32m\"vespasian\"\u001b[39m, \u001b[32m1588\u001b[39m),\n",
       "  (\u001b[32m\"valentinian_i\"\u001b[39m, \u001b[32m1417\u001b[39m),\n",
       "  (\u001b[32m\"theodosius_i\"\u001b[39m, \u001b[32m1176\u001b[39m),\n",
       "  (\u001b[32m\"carausius\"\u001b[39m, \u001b[32m1146\u001b[39m),\n",
       "  (\u001b[32m\"probus\"\u001b[39m, \u001b[32m953\u001b[39m),\n",
       "  (\u001b[32m\"commodus\"\u001b[39m, \u001b[32m945\u001b[39m),\n",
       "  (\u001b[32m\"trajan\"\u001b[39m, \u001b[32m942\u001b[39m),\n",
       "  (\u001b[32m\"severus_alexander\"\u001b[39m, \u001b[32m942\u001b[39m),\n",
       "  (\u001b[32m\"domitian\"\u001b[39m, \u001b[32m859\u001b[39m),\n",
       "  (\u001b[32m\"valens\"\u001b[39m, \u001b[32m847\u001b[39m),\n",
       "  (\u001b[32m\"valentinian_ii\"\u001b[39m, \u001b[32m824\u001b[39m),\n",
       "  (\u001b[32m\"constans\"\u001b[39m, \u001b[32m666\u001b[39m),\n",
       "  (\u001b[32m\"augustus\"\u001b[39m, \u001b[32m629\u001b[39m),\n",
       "  (\u001b[32m\"nero\"\u001b[39m, \u001b[32m622\u001b[39m),\n",
       "  (\u001b[32m\"licinius\"\u001b[39m, \u001b[32m580\u001b[39m),\n",
       "  (\u001b[32m\"gordian_iii\"\u001b[39m, \u001b[32m552\u001b[39m),\n",
       "  (\u001b[32m\"philip_the_arab\"\u001b[39m, \u001b[32m551\u001b[39m),\n",
       "  (\u001b[32m\"elagabalus\"\u001b[39m, \u001b[32m550\u001b[39m),\n",
       "  (\u001b[32m\"titus\"\u001b[39m, \u001b[32m543\u001b[39m),\n",
       "  (\u001b[32m\"trajan_decius\"\u001b[39m, \u001b[32m531\u001b[39m),\n",
       "  (\u001b[32m\"caracalla\"\u001b[39m, \u001b[32m529\u001b[39m),\n",
       "  (\u001b[32m\"aurelian\"\u001b[39m, \u001b[32m525\u001b[39m),\n",
       "  (\u001b[32m\"galba\"\u001b[39m, \u001b[32m522\u001b[39m),\n",
       "  (\u001b[32m\"constantine_ii\"\u001b[39m, \u001b[32m450\u001b[39m),\n",
       "  (\u001b[32m\"gratian\"\u001b[39m, \u001b[32m437\u001b[39m),\n",
       "  (\u001b[32m\"magnentius\"\u001b[39m, \u001b[32m425\u001b[39m),\n",
       "  (\u001b[32m\"diocletian\"\u001b[39m, \u001b[32m405\u001b[39m),\n",
       "  (\u001b[32m\"postumus\"\u001b[39m, \u001b[32m392\u001b[39m),\n",
       "  (\u001b[32m\"maximinus_daia\"\u001b[39m, \u001b[32m380\u001b[39m),\n",
       "..."
      ]
     },
     "execution_count": 23,
     "metadata": {},
     "output_type": "execute_result"
    }
   ],
   "source": [
    "// next convert your Map[String->Int] to a Vector.  The result is a Vector of pairings of (String, Int).\n",
    "// We'll sort this by the second element of the pairing, namely the Int.  Since we sort from smallest to largest\n",
    "// by default, you can reverse the result so that the \n",
    "//\n",
    "val authoritiesHistogram = authoritiesCounts.toVector.sortBy(authFreq => authFreq._2).reverse"
   ]
  },
  {
   "cell_type": "markdown",
   "metadata": {},
   "source": [
    "### Questions 2 and 3: who strikes the most issues? the fewest?"
   ]
  },
  {
   "cell_type": "code",
   "execution_count": 27,
   "metadata": {
    "collapsed": true,
    "inputHidden": false,
    "outputHidden": false
   },
   "outputs": [
    {
     "data": {
      "text/plain": [
       "\u001b[36mhead\u001b[39m: (\u001b[32mString\u001b[39m, \u001b[32mInt\u001b[39m) = (\u001b[32m\"constantine_i\"\u001b[39m, \u001b[32m4096\u001b[39m)\n",
       "\u001b[36mlast\u001b[39m: (\u001b[32mString\u001b[39m, \u001b[32mInt\u001b[39m) = (\u001b[32m\"sponsianus\"\u001b[39m, \u001b[32m1\u001b[39m)\n",
       "\u001b[36moneAuthorities\u001b[39m: \u001b[32mVector\u001b[39m[(\u001b[32mString\u001b[39m, \u001b[32mInt\u001b[39m)] = \u001b[33mVector\u001b[39m(\n",
       "  (\u001b[32m\"mar_silbannacus\"\u001b[39m, \u001b[32m1\u001b[39m),\n",
       "  (\u001b[32m\"domitian_ii\"\u001b[39m, \u001b[32m1\u001b[39m),\n",
       "  (\u001b[32m\"saturninus\"\u001b[39m, \u001b[32m1\u001b[39m),\n",
       "  (\u001b[32m\"sponsianus\"\u001b[39m, \u001b[32m1\u001b[39m)\n",
       ")"
      ]
     },
     "execution_count": 27,
     "metadata": {},
     "output_type": "execute_result"
    }
   ],
   "source": [
    "// With the authoritiesHistogram you created, you can use the `head` and `last` methods to see the first and last entries in the Vector.\n",
    "val head = authoritiesHistogram.head\n",
    "val last = authoritiesHistogram.last\n",
    "val oneAuthorities = authoritiesHistogram.filter(authFreq => authFreq._2 < 2)"
   ]
  }
 ],
 "metadata": {
  "kernel_info": {
   "name": "scala212"
  },
  "kernelspec": {
   "display_name": "Scala (2.12)",
   "language": "scala",
   "name": "scala212"
  },
  "language_info": {
   "codemirror_mode": "text/x-scala",
   "file_extension": ".scala",
   "mimetype": "text/x-scala",
   "name": "scala",
   "nbconvert_exporter": "script",
   "version": "2.12.10"
  },
  "nteract": {
   "version": "0.15.0"
  }
 },
 "nbformat": 4,
 "nbformat_minor": 2
}
